{
 "cells": [
  {
   "cell_type": "markdown",
   "metadata": {},
   "source": [
    "# Interactively trigger GASpy tasks"
   ]
  },
  {
   "cell_type": "markdown",
   "metadata": {},
   "source": [
    "- Wanted a notebook to interactively try GASpy calculations and tasks."
   ]
  },
  {
   "cell_type": "code",
   "execution_count": null,
   "metadata": {},
   "outputs": [],
   "source": [
    "import os\n",
    "import glob\n",
    "import pickle\n",
    "\n",
    "from ase.visualize import view\n",
    "import tqdm\n",
    "import matplotlib.pyplot as plt\n",
    "import subprocess\n",
    "import datetime\n",
    "import multiprocessing\n",
    "\n",
    "import numpy as np\n",
    "import matplotlib.pyplot as plt"
   ]
  },
  {
   "cell_type": "code",
   "execution_count": null,
   "metadata": {},
   "outputs": [],
   "source": [
    "%load_ext blackcellmagic\n",
    "%load_ext autoreload\n",
    "%autoreload 2"
   ]
  },
  {
   "cell_type": "code",
   "execution_count": null,
   "metadata": {},
   "outputs": [],
   "source": [
    "def load_from_file(fname, module=pickle):\n",
    "    \"\"\"\n",
    "    Quick function to load an object from a file.\n",
    "\n",
    "    By default, use the pickle module.\n",
    "    \"\"\"\n",
    "\n",
    "    with open(fname, \"rb\") as f:\n",
    "        obj = module.load(f)\n",
    "\n",
    "    return obj\n",
    "\n",
    "def save_to_file(obj, fname, module=pickle):\n",
    "    \"\"\"\n",
    "    Quick function to save a single object to a file.\n",
    "\n",
    "    By default, use the pickle module.\n",
    "    \"\"\"\n",
    "\n",
    "    with open(fname, \"wb\") as f:\n",
    "        module.dump(obj, f)\n",
    "\n",
    "    return True\n",
    "\n",
    "    # try:\n",
    "\n",
    "    # except:\n",
    "    #     print(\"Something went wrong with the pickling.\")"
   ]
  },
  {
   "cell_type": "markdown",
   "metadata": {},
   "source": [
    "## Routine tasks"
   ]
  },
  {
   "cell_type": "markdown",
   "metadata": {},
   "source": [
    "- Here are some examples of tasks we'll routinely have to perform with GASpy.\n",
    "- Some of these come from example scripts."
   ]
  },
  {
   "cell_type": "markdown",
   "metadata": {},
   "source": [
    "### Catalog population"
   ]
  },
  {
   "cell_type": "markdown",
   "metadata": {
    "collapsed": "false"
   },
   "source": [
    "- Tip: run this in a new console for the notebook. That way, the output will page automatically and you won't have a huge cell to clear at the end."
   ]
  },
  {
   "cell_type": "code",
   "execution_count": null,
   "metadata": {
    "collapsed": true,
    "jupyter": {
     "outputs_hidden": true
    }
   },
   "outputs": [],
   "source": [
    "'''\n",
    "This script will populate your `catalog` Mongo collection with adsorption sites\n",
    "of alloys containing the given set of elements and with Miller indices no\n",
    "higher than the specified `max_miller`.\n",
    "'''\n",
    "\n",
    "from gaspy.tasks.db_managers.catalog import update_catalog_collection\n",
    "\n",
    "\n",
    "#elements = ['Ag', 'Al', 'As', 'Au', 'Bi', 'Ca', 'Cd', 'Cl', 'Co', 'Cr', 'Cs',\n",
    "#            'Cu', 'Fe', 'Ga', 'Ge', 'H', 'Hf', 'Hg', 'In', 'Ir', 'K', 'Mn',\n",
    "#            'Mo', 'N', 'Ni', 'Na', 'Nb', 'Os', 'P', 'Pb', 'Pd', 'Pt', 'Rb',\n",
    "#            'Re', 'Rh', 'Ru', 'S', 'Sb', 'Sc', 'Se', 'Si', 'Sn', 'Sr', 'Ta',\n",
    "#            'Tc', 'Te', 'Ti', 'Tl', 'V', 'W', 'Y', 'Zn', 'Zr']\n",
    "max_miller = 2\n",
    "\n",
    "elements = ['Pt', 'Ru', \"Cu\", \"Ni\", \"Pd\"]\n",
    "\n",
    "\n",
    "update_catalog_collection(elements=elements, max_miller=max_miller, n_processes=8)"
   ]
  },
  {
   "cell_type": "code",
   "execution_count": null,
   "metadata": {
    "collapsed": true,
    "jupyter": {
     "outputs_hidden": true
    }
   },
   "outputs": [],
   "source": [
    "'''\n",
    "Alternative form to run arbitrary functions within gaspy.tasks.db_managers.catalog\n",
    "'''\n",
    "\n",
    "import gaspy.tasks.db_managers.catalog as catalog\n",
    "\n",
    "\n",
    "#elements = ['Ag', 'Al', 'As', 'Au', 'Bi', 'Ca', 'Cd', 'Cl', 'Co', 'Cr', 'Cs',\n",
    "#            'Cu', 'Fe', 'Ga', 'Ge', 'H', 'Hf', 'Hg', 'In', 'Ir', 'K', 'Mn',\n",
    "#            'Mo', 'N', 'Ni', 'Na', 'Nb', 'Os', 'P', 'Pb', 'Pd', 'Pt', 'Rb',\n",
    "#            'Re', 'Rh', 'Ru', 'S', 'Sb', 'Sc', 'Se', 'Si', 'Sn', 'Sr', 'Ta',\n",
    "#            'Tc', 'Te', 'Ti', 'Tl', 'V', 'W', 'Y', 'Zn', 'Zr']\n",
    "max_miller = 2\n",
    "\n",
    "elements = ['Pt', 'Ru', \"Cu\", \"Ni\", \"Pd\"]\n",
    "\n",
    "\n",
    "get_mpid_task = catalog._GetMpids(elements=elements)"
   ]
  },
  {
   "cell_type": "code",
   "execution_count": null,
   "metadata": {
    "collapsed": true,
    "jupyter": {
     "outputs_hidden": true
    }
   },
   "outputs": [],
   "source": [
    "catalog.schedule_tasks([get_mpid_task])"
   ]
  },
  {
   "cell_type": "code",
   "execution_count": null,
   "metadata": {
    "collapsed": true,
    "jupyter": {
     "outputs_hidden": true
    }
   },
   "outputs": [],
   "source": [
    "mpids = catalog.get_task_output(get_mpid_task)"
   ]
  },
  {
   "cell_type": "code",
   "execution_count": null,
   "metadata": {
    "collapsed": true,
    "jupyter": {
     "outputs_hidden": true
    }
   },
   "outputs": [],
   "source": [
    "mpids"
   ]
  },
  {
   "cell_type": "code",
   "execution_count": null,
   "metadata": {
    "collapsed": true,
    "jupyter": {
     "outputs_hidden": true
    }
   },
   "outputs": [],
   "source": [
    "# Aside: searching for missing calculation\n",
    "from gaspy.tasks import calculation_finders\n",
    "from gaspy import defaults"
   ]
  },
  {
   "cell_type": "code",
   "execution_count": null,
   "metadata": {
    "collapsed": true,
    "jupyter": {
     "outputs_hidden": true
    }
   },
   "outputs": [],
   "source": [
    "find_bulk_task = calculation_finders.FindBulk(mpid=\"mp-1186117\")"
   ]
  },
  {
   "cell_type": "code",
   "execution_count": null,
   "metadata": {
    "collapsed": true,
    "jupyter": {
     "outputs_hidden": true
    }
   },
   "outputs": [],
   "source": [
    "schedule_tasks([find_bulk_task])"
   ]
  },
  {
   "cell_type": "code",
   "execution_count": null,
   "metadata": {
    "collapsed": true,
    "jupyter": {
     "outputs_hidden": true
    }
   },
   "outputs": [],
   "source": [
    "output = catalog.get_task_output(find_bulk_task)"
   ]
  },
  {
   "cell_type": "code",
   "execution_count": null,
   "metadata": {
    "collapsed": true,
    "jupyter": {
     "outputs_hidden": true
    }
   },
   "outputs": [],
   "source": []
  },
  {
   "cell_type": "markdown",
   "metadata": {},
   "source": [
    "### Updating collections"
   ]
  },
  {
   "cell_type": "markdown",
   "metadata": {
    "collapsed": "false"
   },
   "source": [
    "- Tip: run this in a new console for the notebook. That way, the output will page automatically and you won't have a huge cell to clear at the end."
   ]
  },
  {
   "cell_type": "code",
   "execution_count": null,
   "metadata": {
    "collapsed": true,
    "jupyter": {
     "outputs_hidden": true
    }
   },
   "outputs": [],
   "source": [
    "'''\n",
    "This script will populate your `atoms` Mongo collection with completed\n",
    "calculations in your FireWorks database.\n",
    "'''\n",
    "from gaspy.tasks.db_managers import update_all_collections\n",
    "\n",
    "update_all_collections(n_processes=4)"
   ]
  },
  {
   "cell_type": "markdown",
   "metadata": {},
   "source": [
    "### Triggering adsorption calculations"
   ]
  },
  {
   "cell_type": "code",
   "execution_count": null,
   "metadata": {
    "collapsed": true,
    "jupyter": {
     "outputs_hidden": true
    }
   },
   "outputs": [],
   "source": [
    "all_site_documents = get_catalog_docs()"
   ]
  },
  {
   "cell_type": "code",
   "execution_count": null,
   "metadata": {
    "collapsed": true,
    "jupyter": {
     "outputs_hidden": true
    }
   },
   "outputs": [],
   "source": [
    "from gaspy.tasks import schedule_tasks\n",
    "from gaspy.gasdb import get_catalog_docs\n",
    "from gaspy.tasks.metadata_calculators import CalculateAdsorptionEnergy\n",
    "\n",
    "\n",
    "# Get all of the sites that we have enumerated\n",
    "all_site_documents = get_catalog_docs()\n",
    "\n",
    "# Pick the sites that we want to run. In this case, it'll be sites on\n",
    "# palladium (as per Materials Project ID 2, mp-2) on (111) facets.\n",
    "site_documents_to_calc = [doc for doc in all_site_documents\n",
    "                          if (doc['mpid'] == 'mp-33' and\n",
    "                              doc['miller'] == [1, 1, 1])]\n",
    "\n",
    "# Turn the sites into GASpy/Luigi tasks\n",
    "tasks = [CalculateAdsorptionEnergy(adsorbate_name='H',\n",
    "                                   adsorption_site=doc['adsorption_site'],\n",
    "                                   mpid=doc['mpid'],\n",
    "                                   miller_indices=doc['miller'],\n",
    "                                   shift=doc['shift'],\n",
    "                                   top=doc['top'])\n",
    "         for doc in site_documents_to_calc]\n",
    "\n",
    "# Schedule/run all of the tasks\n",
    "schedule_tasks(tasks)"
   ]
  },
  {
   "cell_type": "markdown",
   "metadata": {},
   "source": [
    "### Use reservation system to give unit cell optimizations more walltime"
   ]
  },
  {
   "cell_type": "code",
   "execution_count": null,
   "metadata": {
    "collapsed": true,
    "jupyter": {
     "outputs_hidden": true
    }
   },
   "outputs": [],
   "source": [
    "from gaspy import fireworks_helper_scripts"
   ]
  },
  {
   "cell_type": "code",
   "execution_count": null,
   "metadata": {
    "collapsed": true,
    "jupyter": {
     "outputs_hidden": true
    }
   },
   "outputs": [],
   "source": [
    "# Look for RESERVED jobs that are unit cell optimizations\n",
    "lpad = fireworks_helper_scripts.get_launchpad()"
   ]
  },
  {
   "cell_type": "code",
   "execution_count": null,
   "metadata": {
    "collapsed": true,
    "jupyter": {
     "outputs_hidden": true
    }
   },
   "outputs": [],
   "source": [
    "fwids = lpad.get_fw_ids(\n",
    "    query={\"state\": \"RESERVED\", \"name.calculation_type\": \"slab+adsorbate optimization\"}\n",
    ")"
   ]
  },
  {
   "cell_type": "code",
   "execution_count": null,
   "metadata": {
    "collapsed": true,
    "jupyter": {
     "outputs_hidden": true
    }
   },
   "outputs": [],
   "source": [
    "# Extract the Slurm job IDs from the Firework record\n",
    "jobids = []\n",
    "\n",
    "for fwid in fwids:\n",
    "    fw = lpad.get_fw_by_id(fwid)\n",
    "    try:\n",
    "        jobids.append(fw.launches[-1].state_history[-1][\"reservation_id\"])\n",
    "    except KeyError:\n",
    "        print(f\"\"\"Could not get job ID for firework {fw.fw_id}\"\"\")"
   ]
  },
  {
   "cell_type": "code",
   "execution_count": null,
   "metadata": {
    "collapsed": true,
    "jupyter": {
     "outputs_hidden": true
    }
   },
   "outputs": [],
   "source": [
    "len(jobids)"
   ]
  },
  {
   "cell_type": "code",
   "execution_count": null,
   "metadata": {
    "collapsed": true,
    "jupyter": {
     "outputs_hidden": true
    }
   },
   "outputs": [],
   "source": [
    "# Ask Slurm to give all the jobs more time\n",
    "# Hopefully 8 hrs is enough for a unit cell optimization to finish!!\n",
    "cmd = f\"\"\"scontrol update jobid={\",\".join(jobids)} TimeLimit=48:00:00 TimeMin=8:30:00\"\"\""
   ]
  },
  {
   "cell_type": "code",
   "execution_count": null,
   "metadata": {
    "collapsed": true,
    "jupyter": {
     "outputs_hidden": true
    }
   },
   "outputs": [],
   "source": [
    "# Ask Slurm to lower the priority on GASpy jobs, so I can do calculations\n",
    "# for other projects as well.\n",
    "cmd = f\"\"\"scontrol update jobid={\",\".join(jobids)} Nice=100\"\"\""
   ]
  },
  {
   "cell_type": "code",
   "execution_count": null,
   "metadata": {
    "collapsed": true,
    "jupyter": {
     "outputs_hidden": true
    }
   },
   "outputs": [],
   "source": [
    "cmd"
   ]
  },
  {
   "cell_type": "code",
   "execution_count": null,
   "metadata": {
    "collapsed": true,
    "jupyter": {
     "outputs_hidden": true
    }
   },
   "outputs": [],
   "source": [
    "result = subprocess.run(cmd.split())"
   ]
  },
  {
   "cell_type": "code",
   "execution_count": null,
   "metadata": {
    "collapsed": true,
    "jupyter": {
     "outputs_hidden": true
    }
   },
   "outputs": [],
   "source": [
    "result"
   ]
  },
  {
   "cell_type": "markdown",
   "metadata": {},
   "source": [
    "### Use reservation system to allocate more walltime for slabs with large numbers of atoms"
   ]
  },
  {
   "cell_type": "code",
   "execution_count": null,
   "metadata": {
    "collapsed": true,
    "jupyter": {
     "outputs_hidden": true
    }
   },
   "outputs": [],
   "source": [
    "from gaspy import fireworks_helper_scripts\n",
    "from gaspy import vasp_functions\n",
    "from collections import Counter\n",
    "import pandas as pd\n",
    "import multiprocessing"
   ]
  },
  {
   "cell_type": "code",
   "execution_count": null,
   "metadata": {
    "collapsed": true,
    "jupyter": {
     "outputs_hidden": true
    }
   },
   "outputs": [],
   "source": [
    "lpad = fireworks_helper_scripts.get_launchpad()"
   ]
  },
  {
   "cell_type": "code",
   "execution_count": null,
   "metadata": {
    "collapsed": true,
    "jupyter": {
     "outputs_hidden": true
    }
   },
   "outputs": [],
   "source": [
    "fwids = lpad.get_fw_ids(query={\"state\": \"FIZZLED\"})"
   ]
  },
  {
   "cell_type": "code",
   "execution_count": null,
   "metadata": {
    "collapsed": true,
    "jupyter": {
     "outputs_hidden": true
    }
   },
   "outputs": [],
   "source": [
    "len(fwids)"
   ]
  },
  {
   "cell_type": "code",
   "execution_count": null,
   "metadata": {
    "collapsed": true,
    "jupyter": {
     "outputs_hidden": true
    }
   },
   "outputs": [],
   "source": [
    "fwids[-1]"
   ]
  },
  {
   "cell_type": "code",
   "execution_count": null,
   "metadata": {
    "collapsed": true,
    "jupyter": {
     "outputs_hidden": true
    }
   },
   "outputs": [],
   "source": [
    "def hex_to_atoms(hex_: str):\n",
    "    \"\"\"Quickly get atoms corresponding to hex string\"\"\"\n",
    "    fname = str(vasp_functions.uuid.uuid4()) + \".traj\"\n",
    "    vasp_functions.hex_to_file(fname, hex_)\n",
    "    slab = vasp_functions.ase.io.read(fname)\n",
    "    os.remove(fname)\n",
    "    return slab"
   ]
  },
  {
   "cell_type": "code",
   "execution_count": null,
   "metadata": {
    "collapsed": true,
    "jupyter": {
     "outputs_hidden": true
    }
   },
   "outputs": [],
   "source": [
    "# For each fwid, we want to get the associated Firework, get\n",
    "# the atoms object associated with it, and then see what we're looking at.\n",
    "def get_slab(fwid):\n",
    "    lpad_tmp = fireworks_helper_scripts.get_launchpad()\n",
    "    fw = lpad_tmp.get_fw_by_id(fwid)\n",
    "    hex_ = fw.spec[\"_tasks\"][1][\"args\"][-1]\n",
    "    slab = hex_to_atoms(hex_)\n",
    "    return slab\n",
    "\n",
    "\n",
    "with multiprocessing.Pool(processes=16) as p:\n",
    "    slabs = list(tqdm.tqdm(p.imap(get_slab, fwids), total=len(fwids)))\n",
    "\n",
    "counts = [dict(Counter(slab.get_chemical_symbols())) for slab in slabs]"
   ]
  },
  {
   "cell_type": "code",
   "execution_count": null,
   "metadata": {
    "collapsed": true,
    "jupyter": {
     "outputs_hidden": true
    }
   },
   "outputs": [],
   "source": [
    "view(slabs)"
   ]
  },
  {
   "cell_type": "code",
   "execution_count": null,
   "metadata": {
    "collapsed": true,
    "jupyter": {
     "outputs_hidden": true
    }
   },
   "outputs": [],
   "source": [
    "df_counts = pd.DataFrame(data=counts)"
   ]
  },
  {
   "cell_type": "code",
   "execution_count": null,
   "metadata": {
    "collapsed": true,
    "jupyter": {
     "outputs_hidden": true
    }
   },
   "outputs": [],
   "source": [
    "lengths = [len(slab) for slab in slabs]"
   ]
  },
  {
   "cell_type": "code",
   "execution_count": null,
   "metadata": {
    "collapsed": true,
    "jupyter": {
     "outputs_hidden": true
    }
   },
   "outputs": [],
   "source": [
    "import seaborn as sns"
   ]
  },
  {
   "cell_type": "code",
   "execution_count": null,
   "metadata": {
    "collapsed": true,
    "jupyter": {
     "outputs_hidden": true
    }
   },
   "outputs": [],
   "source": [
    "sns.swarmplot(data=lengths)"
   ]
  },
  {
   "cell_type": "markdown",
   "metadata": {},
   "source": [
    "### Rerun fizzled fireworks that simply timed out"
   ]
  },
  {
   "cell_type": "code",
   "execution_count": null,
   "metadata": {
    "collapsed": true,
    "jupyter": {
     "outputs_hidden": true
    }
   },
   "outputs": [],
   "source": [
    "from gaspy import fireworks_helper_scripts"
   ]
  },
  {
   "cell_type": "code",
   "execution_count": null,
   "metadata": {
    "collapsed": true,
    "jupyter": {
     "outputs_hidden": true
    }
   },
   "outputs": [],
   "source": [
    "lpad = fireworks_helper_scripts.get_launchpad()"
   ]
  },
  {
   "cell_type": "code",
   "execution_count": null,
   "metadata": {
    "collapsed": true,
    "jupyter": {
     "outputs_hidden": true
    }
   },
   "outputs": [],
   "source": [
    "# Get list of fizzled fireworks\n",
    "fwids = lpad.get_fw_ids(query={\"state\": \"FIZZLED\"})"
   ]
  },
  {
   "cell_type": "code",
   "execution_count": null,
   "metadata": {
    "collapsed": true,
    "jupyter": {
     "outputs_hidden": true
    }
   },
   "outputs": [],
   "source": [
    "len(fwids)"
   ]
  },
  {
   "cell_type": "code",
   "execution_count": null,
   "metadata": {
    "collapsed": true,
    "jupyter": {
     "outputs_hidden": true
    }
   },
   "outputs": [],
   "source": [
    "fw = lpad.get_fw_by_id(fwids[240])"
   ]
  },
  {
   "cell_type": "code",
   "execution_count": null,
   "metadata": {
    "collapsed": true,
    "jupyter": {
     "outputs_hidden": true
    }
   },
   "outputs": [],
   "source": [
    "directory = fw.launches[-1].launch_dir"
   ]
  },
  {
   "cell_type": "code",
   "execution_count": null,
   "metadata": {
    "collapsed": true,
    "jupyter": {
     "outputs_hidden": true
    }
   },
   "outputs": [],
   "source": [
    "# Find the force trajectory\n",
    "outcar_path = os.path.join(directory, \"OUTCAR\")"
   ]
  },
  {
   "cell_type": "code",
   "execution_count": null,
   "metadata": {
    "collapsed": true,
    "jupyter": {
     "outputs_hidden": true
    }
   },
   "outputs": [],
   "source": [
    "result = subprocess.run([\"grep\", \"FORCES: max\", outcar_path], stdout=subprocess.PIPE, stderr=subprocess.PIPE, encoding=\"utf8\")"
   ]
  },
  {
   "cell_type": "raw",
   "metadata": {
    "collapsed": "false"
   },
   "source": [
    "print(result.stdout)"
   ]
  },
  {
   "cell_type": "code",
   "execution_count": null,
   "metadata": {
    "collapsed": true,
    "jupyter": {
     "outputs_hidden": true
    }
   },
   "outputs": [],
   "source": [
    "# Parse grep output to find forces\n",
    "lines = result.stdout[:-1].split(\"\\n\")\n",
    "max_forces = np.array([line[24:36] for line in lines], dtype=np.float64)"
   ]
  },
  {
   "cell_type": "code",
   "execution_count": null,
   "metadata": {
    "collapsed": true,
    "jupyter": {
     "outputs_hidden": true
    }
   },
   "outputs": [],
   "source": [
    "plt.plot(max_forces[-30:], \"ko\")\n",
    "plt.grid()"
   ]
  },
  {
   "cell_type": "code",
   "execution_count": null,
   "metadata": {
    "collapsed": true,
    "jupyter": {
     "outputs_hidden": true
    }
   },
   "outputs": [],
   "source": [
    "fw.launches[-1].state_history"
   ]
  },
  {
   "cell_type": "code",
   "execution_count": null,
   "metadata": {
    "collapsed": true,
    "jupyter": {
     "outputs_hidden": true
    }
   },
   "outputs": [],
   "source": [
    "for fwid in fwids:\n",
    "    fw = lpad.get_fw_by_id(fwid)\n",
    "    try:\n",
    "        # Firework has an exception. Don't rerun.\n",
    "        exception = fw.launches[-1].action.stored_data[\"_exception\"]\n",
    "    except (KeyError, AttributeError):\n",
    "        print(f\"Firework {fwid} failed without exception; rerunning.\")\n",
    "\n",
    "        # Now check to see if\n",
    "\n",
    "        # lpad.rerun_fw(fw_id=fwid)"
   ]
  },
  {
   "cell_type": "code",
   "execution_count": null,
   "metadata": {
    "collapsed": true,
    "jupyter": {
     "outputs_hidden": true
    }
   },
   "outputs": [],
   "source": [
    "fw.launches[-1].action.stored_data[\"_exception\"]"
   ]
  },
  {
   "cell_type": "markdown",
   "metadata": {},
   "source": [
    "## Introspection"
   ]
  },
  {
   "cell_type": "markdown",
   "metadata": {},
   "source": [
    "- Contains recipes for inspecting things in the database and getting an idea of what's going on."
   ]
  },
  {
   "cell_type": "code",
   "execution_count": null,
   "metadata": {},
   "outputs": [],
   "source": [
    "from gaspy import fireworks_helper_scripts"
   ]
  },
  {
   "cell_type": "markdown",
   "metadata": {},
   "source": [
    "### View atoms that match some Fireworks query"
   ]
  },
  {
   "cell_type": "code",
   "execution_count": null,
   "metadata": {
    "collapsed": true,
    "jupyter": {
     "outputs_hidden": true
    }
   },
   "outputs": [],
   "source": [
    "lpad = fireworks_helper_scripts.get_launchpad()"
   ]
  },
  {
   "cell_type": "code",
   "execution_count": null,
   "metadata": {
    "collapsed": true,
    "jupyter": {
     "outputs_hidden": true
    }
   },
   "outputs": [],
   "source": [
    "completed_fwids = lpad.get_fw_ids(query={\"state\": \"COMPLETED\", \"name.adsorbate\": \"N\", \"name.mpid\": \"mp-126\"})"
   ]
  },
  {
   "cell_type": "code",
   "execution_count": null,
   "metadata": {
    "collapsed": true,
    "jupyter": {
     "outputs_hidden": true
    }
   },
   "outputs": [],
   "source": [
    "completed_fwids[-1]"
   ]
  },
  {
   "cell_type": "code",
   "execution_count": null,
   "metadata": {
    "collapsed": true,
    "jupyter": {
     "outputs_hidden": true
    }
   },
   "outputs": [],
   "source": [
    "completed_atoms = [fireworks_helper_scripts.get_atoms_from_fwid(fwid=fwid) for fwid in tqdm.tqdm(completed_fwids)]"
   ]
  },
  {
   "cell_type": "code",
   "execution_count": null,
   "metadata": {
    "collapsed": true,
    "jupyter": {
     "outputs_hidden": true
    }
   },
   "outputs": [],
   "source": [
    "view(completed_atoms)"
   ]
  },
  {
   "cell_type": "markdown",
   "metadata": {},
   "source": [
    "### Get initial geometries of completed adsorption calculations"
   ]
  },
  {
   "cell_type": "code",
   "execution_count": null,
   "metadata": {},
   "outputs": [],
   "source": [
    "from gaspy.gasdb import get_adsorption_docs\n",
    "from gaspy.fireworks_helper_scripts import get_atoms_from_fwid\n",
    "from ase.io import write"
   ]
  },
  {
   "cell_type": "code",
   "execution_count": null,
   "metadata": {},
   "outputs": [],
   "source": [
    "ads_docs = get_adsorption_docs(\n",
    "    adsorbate=\"H\", extra_projections={\"initial_fwid\": \"$fwids.slab+adsorbate\"}\n",
    ")"
   ]
  },
  {
   "cell_type": "code",
   "execution_count": null,
   "metadata": {},
   "outputs": [],
   "source": [
    "# Get atomic geometries\n",
    "def lookup_initial_geometry(doc):\n",
    "    \"\"\"Wrapper to find initial geometry given an adsorption doc\"\"\"\n",
    "\n",
    "    # Insert initial slab geometry into the document\n",
    "    # and track success of operation\n",
    "    new_doc = doc.copy()\n",
    "\n",
    "    try:\n",
    "        new_doc.update(\n",
    "            {\n",
    "                \"initial_atoms\": get_atoms_from_fwid(doc[\"initial_fwid\"]),\n",
    "                \"id\": str(doc[\"mongo_id\"]),\n",
    "                \"success\": True,\n",
    "            }\n",
    "        )\n",
    "    except:\n",
    "        new_doc.update({\"id\": str(doc[\"mongo_id\"]), \"success\": False})\n",
    "\n",
    "    return new_doc\n",
    "\n",
    "\n",
    "# Parallelize to save time\n",
    "with multiprocessing.Pool(processes=16) as p:\n",
    "    results = list(\n",
    "        tqdm.tqdm(p.imap(lookup_initial_geometry, ads_docs), total=len(ads_docs),)\n",
    "    )"
   ]
  },
  {
   "cell_type": "code",
   "execution_count": null,
   "metadata": {},
   "outputs": [],
   "source": [
    "# Show how many failed, if any\n",
    "num_invalid = len(list(filter(lambda x: not x[\"success\"], results)))\n",
    "print(f\"{num_invalid} initial geometries could not be found\")"
   ]
  },
  {
   "cell_type": "code",
   "execution_count": null,
   "metadata": {},
   "outputs": [],
   "source": [
    "# Now, save them all to CIF format\n",
    "\n",
    "parent_dir = \"exported-cifs\"\n",
    "os.makedirs(name=parent_dir, exist_ok=True)\n",
    "\n",
    "def save_to_cif(doc):\n",
    "    \"\"\"Wrapper to save atom geometry to CIF format\"\"\"\n",
    "\n",
    "    try:\n",
    "        # Use the Mongo record ID as a unique hash\n",
    "        fname = os.path.join(parent_dir, \"slab_\" + doc[\"id\"] + \".cif\")\n",
    "        doc[\"initial_atoms\"].write(fname)\n",
    "        success = True\n",
    "    except:\n",
    "        success = False\n",
    "\n",
    "    return {\"id\": doc[\"id\"], \"cifwrite_success\": success}\n",
    "\n",
    "\n",
    "# Parallelize to save time\n",
    "with multiprocessing.Pool(processes=16) as p:\n",
    "    write_results = list(tqdm.tqdm(p.imap(save_to_cif, results), total=len(results),))"
   ]
  },
  {
   "cell_type": "code",
   "execution_count": null,
   "metadata": {},
   "outputs": [],
   "source": [
    "# Show how many failed, if any\n",
    "num_valid = len(list(filter(lambda x: x[\"cifwrite_success\"], write_results)))\n",
    "print(f\"{num_valid} initial geometries successfully written\")"
   ]
  },
  {
   "cell_type": "markdown",
   "metadata": {},
   "source": [
    "### Check status of Fireworks jobs"
   ]
  },
  {
   "cell_type": "code",
   "execution_count": null,
   "metadata": {
    "collapsed": true,
    "jupyter": {
     "outputs_hidden": true
    }
   },
   "outputs": [],
   "source": [
    "job_status = fireworks_helper_scripts.check_jobs_status(user_ID=\"abhi2101\", num_jobs=50)"
   ]
  },
  {
   "cell_type": "code",
   "execution_count": null,
   "metadata": {
    "collapsed": true,
    "jupyter": {
     "outputs_hidden": true
    }
   },
   "outputs": [],
   "source": [
    "launch_dirs = job_status[job_status[\"state\"]==\"RUNNING\"]"
   ]
  },
  {
   "cell_type": "code",
   "execution_count": null,
   "metadata": {
    "collapsed": true,
    "jupyter": {
     "outputs_hidden": true
    }
   },
   "outputs": [],
   "source": [
    "launch_dirs"
   ]
  },
  {
   "cell_type": "code",
   "execution_count": null,
   "metadata": {
    "collapsed": true,
    "jupyter": {
     "outputs_hidden": true
    }
   },
   "outputs": [],
   "source": [
    "for run in launch_dirs:\n",
    "    print(run[\"fwid\"])\n",
    "    !ls -lah {run[\"launch_dir\"]}"
   ]
  },
  {
   "cell_type": "code",
   "execution_count": null,
   "metadata": {
    "collapsed": true,
    "jupyter": {
     "outputs_hidden": true
    }
   },
   "outputs": [],
   "source": [
    "job_status"
   ]
  },
  {
   "cell_type": "code",
   "execution_count": null,
   "metadata": {
    "collapsed": true,
    "jupyter": {
     "outputs_hidden": true
    }
   },
   "outputs": [],
   "source": [
    "job_status.pivot_table(values=\"fwid\", index=\"adsorbate\", columns=\"shift\", aggfunc=\"count\")"
   ]
  },
  {
   "cell_type": "markdown",
   "metadata": {},
   "source": [
    "### Re-run defused bulk optimization fireworks and delete old pickle files"
   ]
  },
  {
   "cell_type": "markdown",
   "metadata": {
    "collapsed": "false"
   },
   "source": [
    "- EXPERIMENTAL, not known to work. Do not use."
   ]
  },
  {
   "cell_type": "code",
   "execution_count": null,
   "metadata": {
    "collapsed": true,
    "jupyter": {
     "outputs_hidden": true
    }
   },
   "outputs": [],
   "source": [
    "# Need to get rid of unit cell optimization pickles that never finished\n",
    "defused_fwids = lpad.get_fw_ids(\n",
    "    query={\n",
    "        \"state\": \"RUNNING\",\n",
    "        \"name.calculation_type\": \"unit cell optimization\",\n",
    "        \"created_on\": {\"$gt\": \"2020-07-03\"},\n",
    "    }\n",
    ")\n",
    "\n",
    "# Now, for each FW, get the corresponding mpid"
   ]
  },
  {
   "cell_type": "code",
   "execution_count": null,
   "metadata": {
    "collapsed": true,
    "jupyter": {
     "outputs_hidden": true
    }
   },
   "outputs": [],
   "source": [
    "for fwid in defused_fwids:\n",
    "    lpad.defuse_fw(fwid)"
   ]
  },
  {
   "cell_type": "code",
   "execution_count": null,
   "metadata": {
    "collapsed": true,
    "jupyter": {
     "outputs_hidden": true
    }
   },
   "outputs": [],
   "source": [
    "mpids = set([lpad.get_fw_by_id(fwid).name[\"mpid\"] for fwid in defused_fwids])"
   ]
  },
  {
   "cell_type": "code",
   "execution_count": null,
   "metadata": {
    "collapsed": true,
    "jupyter": {
     "outputs_hidden": true
    }
   },
   "outputs": [],
   "source": [
    "mpids"
   ]
  },
  {
   "cell_type": "code",
   "execution_count": null,
   "metadata": {
    "collapsed": true,
    "jupyter": {
     "outputs_hidden": true
    }
   },
   "outputs": [],
   "source": [
    "# Rerun these bulk calculations\n",
    "from gaspy.tasks import calculation_finders\n",
    "\n",
    "find_bulk_tasks = [calculation_finders.FindBulk(mpid=mpid) for mpid in mpids]\n",
    "schedule_tasks(find_bulk_tasks)"
   ]
  },
  {
   "cell_type": "raw",
   "metadata": {
    "collapsed": "false"
   },
   "source": [
    "# Remove any GenerateBulk pickle files associated with these mpids\n",
    "# working_dir = \"/global/cfs/cdirs/m3287/research/gaspy/gaspy-workspaces/luigi-space-v2/pickles/GenerateBulk\"\n",
    "working_dir = \"/global/cfs/cdirs/m3287/research/gaspy/gaspy-workspaces/luigi-space-v2/pickles/FindBulk\"\n",
    "\n",
    "pickle_files = glob.glob(os.path.join(working_dir, \"*.pkl\"))"
   ]
  },
  {
   "cell_type": "raw",
   "metadata": {
    "collapsed": "false"
   },
   "source": [
    "pickle_files"
   ]
  },
  {
   "cell_type": "raw",
   "metadata": {
    "collapsed": "false"
   },
   "source": [
    "def match_mpids(fname):\n",
    "    \"\"\"Filter function to see if filename matches any mpids\"\"\"\n",
    "    return any([mpid.lower().replace(\"-\", \"_\") in fname.lower() for mpid in mpids])"
   ]
  },
  {
   "cell_type": "raw",
   "metadata": {
    "collapsed": "false"
   },
   "source": [
    "files_to_delete = list(filter(match_mpids, pickle_files))"
   ]
  },
  {
   "cell_type": "raw",
   "metadata": {
    "collapsed": "false"
   },
   "source": [
    "files_to_delete"
   ]
  },
  {
   "cell_type": "raw",
   "metadata": {
    "collapsed": "false"
   },
   "source": [
    "# DANGER\n",
    "for file in files_to_delete:\n",
    "    os.remove(file)"
   ]
  },
  {
   "cell_type": "markdown",
   "metadata": {},
   "source": [
    "### Inspect adsorption energies"
   ]
  },
  {
   "cell_type": "code",
   "execution_count": null,
   "metadata": {
    "collapsed": true,
    "jupyter": {
     "outputs_hidden": true
    }
   },
   "outputs": [],
   "source": [
    "import gaspy.gasdb as gasdb\n",
    "import seaborn as sns"
   ]
  },
  {
   "cell_type": "code",
   "execution_count": null,
   "metadata": {
    "collapsed": true,
    "jupyter": {
     "outputs_hidden": true
    }
   },
   "outputs": [],
   "source": [
    "sns.set_style(\"darkgrid\")"
   ]
  },
  {
   "cell_type": "code",
   "execution_count": null,
   "metadata": {
    "collapsed": true,
    "jupyter": {
     "outputs_hidden": true
    }
   },
   "outputs": [],
   "source": [
    "ads_docs = gasdb.get_adsorption_docs()"
   ]
  },
  {
   "cell_type": "code",
   "execution_count": null,
   "metadata": {
    "collapsed": true,
    "jupyter": {
     "outputs_hidden": true
    }
   },
   "outputs": [],
   "source": [
    "energies = [doc[\"energy\"] for doc in ads_docs]"
   ]
  },
  {
   "cell_type": "code",
   "execution_count": null,
   "metadata": {
    "collapsed": true,
    "jupyter": {
     "outputs_hidden": true
    }
   },
   "outputs": [],
   "source": [
    "import pandas as pd"
   ]
  },
  {
   "cell_type": "code",
   "execution_count": null,
   "metadata": {
    "collapsed": true,
    "jupyter": {
     "outputs_hidden": true
    }
   },
   "outputs": [],
   "source": [
    "energy_df = pd.DataFrame(data=ads_docs)"
   ]
  },
  {
   "cell_type": "code",
   "execution_count": null,
   "metadata": {
    "collapsed": true,
    "jupyter": {
     "outputs_hidden": true
    }
   },
   "outputs": [],
   "source": [
    "# 07 Jul 2020: find out the slab metal. Because we're only looking\n",
    "# at pure Pt and Ru slabs right now, we can pull this from the\n",
    "# adsorbate coordination string.\n",
    "\n",
    "energy_df[\"near_slab_element\"] = energy_df[\"coordination\"].apply(\n",
    "    lambda x: x.split(\"-\")[0]\n",
    ")"
   ]
  },
  {
   "cell_type": "code",
   "execution_count": null,
   "metadata": {
    "collapsed": true,
    "jupyter": {
     "outputs_hidden": true
    }
   },
   "outputs": [],
   "source": [
    "len(energy_df)"
   ]
  },
  {
   "cell_type": "code",
   "execution_count": null,
   "metadata": {
    "collapsed": true,
    "jupyter": {
     "outputs_hidden": true
    }
   },
   "outputs": [],
   "source": [
    "# Swarm plot\n",
    "fig, ax = plt.subplots(1, 1, figsize=(8, 3))\n",
    "sns.swarmplot(\n",
    "    data=energy_df,\n",
    "    y=\"energy\",\n",
    "    x=\"adsorbate\",\n",
    "    palette=\"Dark2\",\n",
    "    hue=\"near_slab_element\",\n",
    "    s=3,\n",
    "    ax=ax,\n",
    ")\n",
    "\n",
    "# Label axes\n",
    "ax.set_xlabel(\"Adsorbate\")\n",
    "ax.set_ylabel(\"Binding energy / eV\")\n",
    "\n",
    "# Change legend title\n",
    "lg = ax.get_legend()\n",
    "lg.set_title(\"First coord. slab metal\")\n",
    "\n",
    "datestr = datetime.date.today().strftime(\"%d %b %Y\")\n",
    "ax.set_title(f\"Preliminary adsorption energies, {datestr}\")\n",
    "fig.tight_layout()\n",
    "\n",
    "fig.savefig(f\"\"\"ads-energies-swarm-plot_{datestr.replace(\" \",\"-\").lower()}.pdf\"\"\")"
   ]
  },
  {
   "cell_type": "code",
   "execution_count": null,
   "metadata": {
    "collapsed": true,
    "jupyter": {
     "outputs_hidden": true
    }
   },
   "outputs": [],
   "source": [
    "# Violin plot\n",
    "fig, ax = plt.subplots(1, 1, figsize=(15, 8))\n",
    "sns.violinplot(data=energy_df, y=\"energy\", x=\"adsorbate\", width=1, scale=\"count\", ax=ax)\n",
    "# ax.set_xticks([0, 0.5, 1, 1.5])"
   ]
  },
  {
   "cell_type": "code",
   "execution_count": null,
   "metadata": {
    "collapsed": true,
    "jupyter": {
     "outputs_hidden": true
    }
   },
   "outputs": [],
   "source": [
    "# Inspect why some O adslabs have relatively high binding energies\n",
    "import gaspy.mongo as gaspymongo\n",
    "\n",
    "high_docs = [doc for doc in ads_docs if doc[\"energy\"] > 1]\n",
    "\n",
    "high_docs = gasdb.get_adsorption_docs(\n",
    "    adsorbate=\"O\",\n",
    "    extra_projections={\"atoms\": \"$atoms\", \"results\": \"$results\"},\n",
    "    filters={\"adsorption_energy\": {\"$gt\": 1.00}},\n",
    ")\n",
    "\n",
    "\n",
    "\n",
    "high_atoms = [gaspymongo.make_atoms_from_doc(doc) for doc in high_docs]\n",
    "\n",
    "view(high_atoms)"
   ]
  },
  {
   "cell_type": "code",
   "execution_count": null,
   "metadata": {
    "collapsed": true,
    "jupyter": {
     "outputs_hidden": true
    }
   },
   "outputs": [],
   "source": [
    "# Compare to low-energy O adslabs\n",
    "import gaspy.mongo as gaspymongo\n",
    "\n",
    "low_docs = gasdb.get_adsorption_docs(\n",
    "    adsorbate=\"O\",\n",
    "    extra_projections={\"atoms\": \"$atoms\", \"results\": \"$results\"},\n",
    "    filters={\"adsorption_energy\": {\"$lt\": 1.00}},\n",
    ")\n",
    "\n",
    "\n",
    "\n",
    "low_atoms = [gaspymongo.make_atoms_from_doc(doc) for doc in low_docs]\n",
    "\n",
    "view(low_atoms)"
   ]
  },
  {
   "cell_type": "markdown",
   "metadata": {},
   "source": [
    "### Defuse fireworks that match a query"
   ]
  },
  {
   "cell_type": "markdown",
   "metadata": {},
   "source": [
    "- Allows you to defuse (to archive and not run) Fireworks based on querying the Fireworks database.\n",
    "- WARNING: don't run this unless you're absolutely sure that you don't want to run these calculations again. If you do, you'll need to reignite the fireworks, or use GASpy Luigi jobs to resubmit them."
   ]
  },
  {
   "cell_type": "code",
   "execution_count": null,
   "metadata": {},
   "outputs": [],
   "source": [
    "lpad = fireworks_helper_scripts.get_launchpad()"
   ]
  },
  {
   "cell_type": "code",
   "execution_count": null,
   "metadata": {},
   "outputs": [],
   "source": [
    "fws_to_defuse = lpad.get_fw_ids(query={\"name.calculation_type\": \"unit cell optimization\", \"state\": \"READY\"})"
   ]
  },
  {
   "cell_type": "code",
   "execution_count": null,
   "metadata": {},
   "outputs": [],
   "source": [
    "fws_to_defuse"
   ]
  },
  {
   "cell_type": "code",
   "execution_count": null,
   "metadata": {},
   "outputs": [],
   "source": [
    "for fwid in fws_to_defuse:\n",
    "    lpad.defuse_fw(fw_id=fwid)"
   ]
  },
  {
   "cell_type": "code",
   "execution_count": null,
   "metadata": {},
   "outputs": [],
   "source": [
    "lpad.defuse_fw(190)"
   ]
  },
  {
   "cell_type": "markdown",
   "metadata": {},
   "source": [
    "## Maintenance"
   ]
  },
  {
   "cell_type": "markdown",
   "metadata": {
    "collapsed": "false"
   },
   "source": [
    "- This section has tasks for maintaining the database and other parts of the system."
   ]
  },
  {
   "cell_type": "markdown",
   "metadata": {},
   "source": [
    "### Back up Mongo database"
   ]
  },
  {
   "cell_type": "markdown",
   "metadata": {
    "collapsed": "false"
   },
   "source": [
    "- We should probably make this a cron job, but here's the template the Ulissi group sent us."
   ]
  },
  {
   "cell_type": "code",
   "execution_count": null,
   "metadata": {
    "collapsed": true,
    "jupyter": {
     "outputs_hidden": true
    }
   },
   "outputs": [],
   "source": [
    "import pymongo"
   ]
  },
  {
   "cell_type": "code",
   "execution_count": null,
   "metadata": {
    "collapsed": true,
    "jupyter": {
     "outputs_hidden": true
    }
   },
   "outputs": [],
   "source": [
    "from gaspy.utils import read_rc"
   ]
  },
  {
   "cell_type": "code",
   "execution_count": null,
   "metadata": {
    "collapsed": true,
    "jupyter": {
     "outputs_hidden": true
    }
   },
   "outputs": [],
   "source": [
    "# Read variables\n",
    "mongo_host = read_rc(\"fireworks_info.lpad.host\")\n",
    "mongo_port = read_rc(\"fireworks_info.lpad.port\")\n",
    "username = read_rc(\"fireworks_info.lpad.username\")\n",
    "password = read_rc(\"fireworks_info.lpad.password\")\n",
    "\n",
    "backup_location = read_rc(\"fireworks_info.backup_directory\")\n",
    "\n",
    "now = datetime.date.today().strftime(\"%Y_%m_%d\")"
   ]
  },
  {
   "cell_type": "code",
   "execution_count": null,
   "metadata": {
    "collapsed": true,
    "jupyter": {
     "outputs_hidden": true
    }
   },
   "outputs": [],
   "source": [
    "command = (\n",
    "    f\"\"\"module load mongodb; mongodump --host \"{mongo_host}\" --port \"{mongo_port}\" \"\"\"\n",
    "    f\"\"\"--username \"{username}\" --password \"{password}\" \"\"\"\n",
    "    f\"\"\"--out \"{os.path.join(backup_location, \"mongodb_backup_\" + now)}\" \"\"\"\n",
    "    f\"\"\"--db \"goldsmith-gaspy\" --gzip\"\"\"\n",
    ")"
   ]
  },
  {
   "cell_type": "code",
   "execution_count": null,
   "metadata": {
    "collapsed": true,
    "jupyter": {
     "outputs_hidden": true
    }
   },
   "outputs": [],
   "source": [
    "result = subprocess.run(command, stdout=subprocess.PIPE, stderr=subprocess.PIPE, encoding=\"utf8\", shell=True)"
   ]
  },
  {
   "cell_type": "code",
   "execution_count": null,
   "metadata": {
    "collapsed": true,
    "jupyter": {
     "outputs_hidden": true
    }
   },
   "outputs": [],
   "source": [
    "print(result.stderr)"
   ]
  },
  {
   "cell_type": "code",
   "execution_count": null,
   "metadata": {
    "collapsed": true,
    "jupyter": {
     "outputs_hidden": true
    }
   },
   "outputs": [],
   "source": []
  }
 ],
 "metadata": {
  "kernelspec": {
   "display_name": "Python [conda env:gaspyconda]",
   "language": "python",
   "name": "gaspyconda"
  },
  "language_info": {
   "codemirror_mode": {
    "name": "ipython",
    "version": 3
   },
   "file_extension": ".py",
   "mimetype": "text/x-python",
   "name": "python",
   "nbconvert_exporter": "python",
   "pygments_lexer": "ipython3",
   "version": "3.6.7"
  }
 },
 "nbformat": 4,
 "nbformat_minor": 4
}
