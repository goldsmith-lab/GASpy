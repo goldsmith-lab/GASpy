{
 "cells": [
  {
   "cell_type": "markdown",
   "metadata": {
    "Collapsed": "false"
   },
   "source": [
    "# Interactively trigger GASpy tasks"
   ]
  },
  {
   "cell_type": "markdown",
   "metadata": {
    "Collapsed": "false"
   },
   "source": [
    "- Wanted a notebook to interactively try GASpy calculations and tasks."
   ]
  },
  {
   "cell_type": "code",
   "execution_count": null,
   "metadata": {
    "Collapsed": "false"
   },
   "outputs": [],
   "source": [
    "import os\n",
    "\n",
    "from ase.visualize import view\n",
    "import tqdm\n",
    "import matplotlib.pyplot as plt\n",
    "import subprocess\n",
    "import datetime"
   ]
  },
  {
   "cell_type": "code",
   "execution_count": null,
   "metadata": {
    "Collapsed": "false"
   },
   "outputs": [],
   "source": [
    "%load_ext blackcellmagic\n",
    "%load_ext autoreload\n",
    "%autoreload 2"
   ]
  },
  {
   "cell_type": "markdown",
   "metadata": {
    "Collapsed": "true"
   },
   "source": [
    "## Routine tasks"
   ]
  },
  {
   "cell_type": "markdown",
   "metadata": {
    "Collapsed": "false"
   },
   "source": [
    "- Here are some examples of tasks we'll routinely have to perform with GASpy.\n",
    "- Some of these come from example scripts."
   ]
  },
  {
   "cell_type": "markdown",
   "metadata": {
    "Collapsed": "false"
   },
   "source": [
    "### Catalog population"
   ]
  },
  {
   "cell_type": "code",
   "execution_count": null,
   "metadata": {
    "Collapsed": "false"
   },
   "outputs": [],
   "source": [
    "'''\n",
    "This script will populate your `catalog` Mongo collection with adsorption sites\n",
    "of alloys containing the given set of elements and with Miller indices no\n",
    "higher than the specified `max_miller`.\n",
    "'''\n",
    "\n",
    "from gaspy.tasks.db_managers.catalog import update_catalog_collection\n",
    "\n",
    "\n",
    "#elements = ['Ag', 'Al', 'As', 'Au', 'Bi', 'Ca', 'Cd', 'Cl', 'Co', 'Cr', 'Cs',\n",
    "#            'Cu', 'Fe', 'Ga', 'Ge', 'H', 'Hf', 'Hg', 'In', 'Ir', 'K', 'Mn',\n",
    "#            'Mo', 'N', 'Ni', 'Na', 'Nb', 'Os', 'P', 'Pb', 'Pd', 'Pt', 'Rb',\n",
    "#            'Re', 'Rh', 'Ru', 'S', 'Sb', 'Sc', 'Se', 'Si', 'Sn', 'Sr', 'Ta',\n",
    "#            'Tc', 'Te', 'Ti', 'Tl', 'V', 'W', 'Y', 'Zn', 'Zr']\n",
    "max_miller = 2\n",
    "\n",
    "elements = ['Pt', 'Ru', \"Cu\", \"Ni\", \"Pd\"]\n",
    "\n",
    "\n",
    "update_catalog_collection(elements=elements, max_miller=max_miller, n_processes=1)"
   ]
  },
  {
   "cell_type": "markdown",
   "metadata": {
    "Collapsed": "false"
   },
   "source": [
    "### Updating collections"
   ]
  },
  {
   "cell_type": "code",
   "execution_count": null,
   "metadata": {
    "Collapsed": "false"
   },
   "outputs": [],
   "source": [
    "'''\n",
    "This script will populate your `atoms` Mongo collection with completed\n",
    "calculations in your FireWorks database.\n",
    "'''\n",
    "from gaspy.tasks.db_managers import update_all_collections\n",
    "\n",
    "\n",
    "update_all_collections(n_processes=4)"
   ]
  },
  {
   "cell_type": "markdown",
   "metadata": {
    "Collapsed": "false"
   },
   "source": [
    "### Triggering adsorption calculations"
   ]
  },
  {
   "cell_type": "code",
   "execution_count": null,
   "metadata": {
    "Collapsed": "false"
   },
   "outputs": [],
   "source": [
    "all_site_documents = get_catalog_docs()"
   ]
  },
  {
   "cell_type": "code",
   "execution_count": null,
   "metadata": {
    "Collapsed": "false"
   },
   "outputs": [],
   "source": [
    "from gaspy.tasks import schedule_tasks\n",
    "from gaspy.gasdb import get_catalog_docs\n",
    "from gaspy.tasks.metadata_calculators import CalculateAdsorptionEnergy\n",
    "\n",
    "\n",
    "# Get all of the sites that we have enumerated\n",
    "all_site_documents = get_catalog_docs()\n",
    "\n",
    "# Pick the sites that we want to run. In this case, it'll be sites on\n",
    "# palladium (as per Materials Project ID 2, mp-2) on (111) facets.\n",
    "site_documents_to_calc = [doc for doc in all_site_documents\n",
    "                          if (doc['mpid'] == 'mp-33' and\n",
    "                              doc['miller'] == [1, 1, 1])]\n",
    "\n",
    "# Turn the sites into GASpy/Luigi tasks\n",
    "tasks = [CalculateAdsorptionEnergy(adsorbate_name='H',\n",
    "                                   adsorption_site=doc['adsorption_site'],\n",
    "                                   mpid=doc['mpid'],\n",
    "                                   miller_indices=doc['miller'],\n",
    "                                   shift=doc['shift'],\n",
    "                                   top=doc['top'])\n",
    "         for doc in site_documents_to_calc]\n",
    "\n",
    "# Schedule/run all of the tasks\n",
    "schedule_tasks(tasks)"
   ]
  },
  {
   "cell_type": "markdown",
   "metadata": {
    "Collapsed": "false"
   },
   "source": [
    "## Introspection"
   ]
  },
  {
   "cell_type": "markdown",
   "metadata": {
    "Collapsed": "false"
   },
   "source": [
    "- Contains recipes for inspecting things in the database and getting an idea of what's going on."
   ]
  },
  {
   "cell_type": "code",
   "execution_count": null,
   "metadata": {
    "Collapsed": "false"
   },
   "outputs": [],
   "source": [
    "from gaspy import fireworks_helper_scripts"
   ]
  },
  {
   "cell_type": "markdown",
   "metadata": {
    "Collapsed": "false"
   },
   "source": [
    "### View atoms that match some Fireworks query"
   ]
  },
  {
   "cell_type": "code",
   "execution_count": null,
   "metadata": {
    "Collapsed": "false"
   },
   "outputs": [],
   "source": [
    "lpad = fireworks_helper_scripts.get_launchpad()"
   ]
  },
  {
   "cell_type": "code",
   "execution_count": null,
   "metadata": {
    "Collapsed": "false"
   },
   "outputs": [],
   "source": [
    "completed_fwids = lpad.get_fw_ids(query={\"state\": \"COMPLETED\", \"name.adsorbate\": \"\"})"
   ]
  },
  {
   "cell_type": "code",
   "execution_count": null,
   "metadata": {
    "Collapsed": "false"
   },
   "outputs": [],
   "source": [
    "completed_atoms = [fireworks_helper_scripts.get_atoms_from_fwid(fwid=fwid) for fwid in tqdm.tqdm(completed_fwids)]"
   ]
  },
  {
   "cell_type": "code",
   "execution_count": null,
   "metadata": {
    "Collapsed": "false"
   },
   "outputs": [],
   "source": [
    "view(completed_atoms)"
   ]
  },
  {
   "cell_type": "markdown",
   "metadata": {
    "Collapsed": "false"
   },
   "source": [
    "### Check status of Fireworks jobs"
   ]
  },
  {
   "cell_type": "code",
   "execution_count": null,
   "metadata": {
    "Collapsed": "false"
   },
   "outputs": [],
   "source": [
    "job_status = fireworks_helper_scripts.check_jobs_status(user_ID=\"samueldy\", num_jobs=50)"
   ]
  },
  {
   "cell_type": "code",
   "execution_count": null,
   "metadata": {
    "Collapsed": "false"
   },
   "outputs": [],
   "source": [
    "launch_dirs = job_status[job_status[\"state\"]==\"RUNNING\"]"
   ]
  },
  {
   "cell_type": "code",
   "execution_count": null,
   "metadata": {
    "Collapsed": "false"
   },
   "outputs": [],
   "source": [
    "launch_dirs"
   ]
  },
  {
   "cell_type": "code",
   "execution_count": null,
   "metadata": {
    "Collapsed": "false"
   },
   "outputs": [],
   "source": [
    "for run in launch_dirs:\n",
    "    print(run[\"fwid\"])\n",
    "    !ls -lah {run[\"launch_dir\"]}"
   ]
  },
  {
   "cell_type": "code",
   "execution_count": null,
   "metadata": {
    "Collapsed": "false"
   },
   "outputs": [],
   "source": [
    "job_status"
   ]
  },
  {
   "cell_type": "code",
   "execution_count": null,
   "metadata": {
    "Collapsed": "false"
   },
   "outputs": [],
   "source": [
    "job_status.pivot_table(values=\"fwid\", index=\"adsorbate\", columns=\"shift\", aggfunc=\"count\")"
   ]
  },
  {
   "cell_type": "markdown",
   "metadata": {
    "Collapsed": "false"
   },
   "source": [
    "### Inspect adsorption energies"
   ]
  },
  {
   "cell_type": "code",
   "execution_count": null,
   "metadata": {
    "Collapsed": "false"
   },
   "outputs": [],
   "source": [
    "import gaspy.gasdb as gasdb\n",
    "import seaborn as sns"
   ]
  },
  {
   "cell_type": "code",
   "execution_count": null,
   "metadata": {
    "Collapsed": "false"
   },
   "outputs": [],
   "source": [
    "ads_docs = gasdb.get_adsorption_docs()"
   ]
  },
  {
   "cell_type": "code",
   "execution_count": null,
   "metadata": {
    "Collapsed": "false"
   },
   "outputs": [],
   "source": [
    "energies = [doc[\"energy\"] for doc in ads_docs]"
   ]
  },
  {
   "cell_type": "code",
   "execution_count": null,
   "metadata": {
    "Collapsed": "false"
   },
   "outputs": [],
   "source": [
    "import pandas as pd"
   ]
  },
  {
   "cell_type": "code",
   "execution_count": null,
   "metadata": {
    "Collapsed": "false"
   },
   "outputs": [],
   "source": [
    "energy_df = pd.DataFrame(data=ads_docs)"
   ]
  },
  {
   "cell_type": "code",
   "execution_count": null,
   "metadata": {
    "Collapsed": "false"
   },
   "outputs": [],
   "source": [
    "# Swarm plot\n",
    "sns.swarmplot(data=energy_df, y=\"energy\", x=\"adsorbate\")"
   ]
  },
  {
   "cell_type": "code",
   "execution_count": null,
   "metadata": {
    "Collapsed": "false"
   },
   "outputs": [],
   "source": [
    "# Violin plot\n",
    "fig, ax = plt.subplots(1, 1, figsize=(15, 8))\n",
    "sns.violinplot(data=energy_df, y=\"energy\", x=\"adsorbate\", width=1, scale=\"count\", ax=ax)\n",
    "ax.set_xticks([0, 0.5, 1, 1.5])"
   ]
  },
  {
   "cell_type": "markdown",
   "metadata": {
    "Collapsed": "false"
   },
   "source": [
    "## Maintenance"
   ]
  },
  {
   "cell_type": "markdown",
   "metadata": {
    "Collapsed": "false"
   },
   "source": [
    "- This section has tasks for maintaining the database and other parts of the system."
   ]
  },
  {
   "cell_type": "markdown",
   "metadata": {
    "Collapsed": "false"
   },
   "source": [
    "### Back up Mongo database"
   ]
  },
  {
   "cell_type": "markdown",
   "metadata": {
    "Collapsed": "false"
   },
   "source": [
    "- We should probably make this a cron job, but here's the template the Ulissigroup sent us."
   ]
  },
  {
   "cell_type": "code",
   "execution_count": null,
   "metadata": {
    "Collapsed": "false"
   },
   "outputs": [],
   "source": [
    "import pymongo"
   ]
  },
  {
   "cell_type": "code",
   "execution_count": null,
   "metadata": {
    "Collapsed": "false"
   },
   "outputs": [],
   "source": [
    "from gaspy.utils import read_rc"
   ]
  },
  {
   "cell_type": "code",
   "execution_count": null,
   "metadata": {
    "Collapsed": "false"
   },
   "outputs": [],
   "source": [
    "# Read variables\n",
    "mongo_host = read_rc(\"fireworks_info.lpad.host\")\n",
    "mongo_port = read_rc(\"fireworks_info.lpad.port\")\n",
    "username = read_rc(\"fireworks_info.lpad.username\")\n",
    "password = read_rc(\"fireworks_info.lpad.password\")\n",
    "\n",
    "backup_location = read_rc(\"fireworks_info.backup_directory\")\n",
    "\n",
    "now = datetime.date.today().strftime(\"%Y_%m_%d\")"
   ]
  },
  {
   "cell_type": "code",
   "execution_count": null,
   "metadata": {
    "Collapsed": "false"
   },
   "outputs": [],
   "source": [
    "command = (\n",
    "    f\"\"\"module load mongodb; mongodump --host \"{mongo_host}\" --port \"{mongo_port}\" \"\"\"\n",
    "    f\"\"\"--username \"{username}\" --password \"{password}\" \"\"\"\n",
    "    f\"\"\"--out \"{os.path.join(backup_location, \"mongodb_backup_\" + now)}\" \"\"\"\n",
    "    f\"\"\"--db \"goldsmith-gaspy\" --gzip\"\"\"\n",
    ")"
   ]
  },
  {
   "cell_type": "code",
   "execution_count": null,
   "metadata": {
    "Collapsed": "false"
   },
   "outputs": [],
   "source": [
    "result = subprocess.run(command, stdout=subprocess.PIPE, stderr=subprocess.PIPE, encoding=\"utf8\", shell=True)"
   ]
  },
  {
   "cell_type": "code",
   "execution_count": null,
   "metadata": {
    "Collapsed": "false"
   },
   "outputs": [],
   "source": [
    "print(result.stderr)"
   ]
  },
  {
   "cell_type": "code",
   "execution_count": null,
   "metadata": {
    "Collapsed": "false"
   },
   "outputs": [],
   "source": [
    "k"
   ]
  }
 ],
 "metadata": {
  "kernelspec": {
   "display_name": "Python [conda env:gaspyconda]",
   "language": "python",
   "name": "gaspyconda"
  },
  "language_info": {
   "codemirror_mode": {
    "name": "ipython",
    "version": 3
   },
   "file_extension": ".py",
   "mimetype": "text/x-python",
   "name": "python",
   "nbconvert_exporter": "python",
   "pygments_lexer": "ipython3",
   "version": "3.6.7"
  }
 },
 "nbformat": 4,
 "nbformat_minor": 4
}
