{
 "cells": [
  {
   "cell_type": "markdown",
   "metadata": {
    "Collapsed": "false"
   },
   "source": [
    "# Interactively trigger GASpy tasks"
   ]
  },
  {
   "cell_type": "markdown",
   "metadata": {
    "Collapsed": "false"
   },
   "source": [
    "- Wanted a notebook to interactively try GASpy calculations and tasks."
   ]
  },
  {
   "cell_type": "code",
   "execution_count": null,
   "metadata": {
    "Collapsed": "false"
   },
   "outputs": [],
   "source": [
    "import os\n",
    "import glob\n",
    "import pickle\n",
    "\n",
    "from ase.visualize import view\n",
    "import tqdm\n",
    "import matplotlib.pyplot as plt\n",
    "import subprocess\n",
    "import datetime"
   ]
  },
  {
   "cell_type": "code",
   "execution_count": null,
   "metadata": {
    "Collapsed": "false"
   },
   "outputs": [],
   "source": [
    "%load_ext blackcellmagic\n",
    "%load_ext autoreload\n",
    "%autoreload 2"
   ]
  },
  {
   "cell_type": "code",
   "execution_count": null,
   "metadata": {
    "Collapsed": "false"
   },
   "outputs": [],
   "source": [
    "def load_from_file(fname, module=pickle):\n",
    "    \"\"\"\n",
    "    Quick function to load an object from a file.\n",
    "\n",
    "    By default, use the pickle module.\n",
    "    \"\"\"\n",
    "\n",
    "    with open(fname, \"rb\") as f:\n",
    "        obj = module.load(f)\n",
    "\n",
    "    return obj\n",
    "\n",
    "def save_to_file(obj, fname, module=pickle):\n",
    "    \"\"\"\n",
    "    Quick function to save a single object to a file.\n",
    "\n",
    "    By default, use the pickle module.\n",
    "    \"\"\"\n",
    "\n",
    "    with open(fname, \"wb\") as f:\n",
    "        module.dump(obj, f)\n",
    "\n",
    "    return True\n",
    "\n",
    "    # try:\n",
    "\n",
    "    # except:\n",
    "    #     print(\"Something went wrong with the pickling.\")"
   ]
  },
  {
   "cell_type": "markdown",
   "metadata": {
    "Collapsed": "false"
   },
   "source": [
    "## Routine tasks"
   ]
  },
  {
   "cell_type": "markdown",
   "metadata": {
    "Collapsed": "false"
   },
   "source": [
    "- Here are some examples of tasks we'll routinely have to perform with GASpy.\n",
    "- Some of these come from example scripts."
   ]
  },
  {
   "cell_type": "markdown",
   "metadata": {
    "Collapsed": "true"
   },
   "source": [
    "### Catalog population"
   ]
  },
  {
   "cell_type": "markdown",
   "metadata": {
    "Collapsed": "false"
   },
   "source": [
    "- Tip: run this in a new console for the notebook. That way, the output will page automatically and you won't have a huge cell to clear at the end."
   ]
  },
  {
   "cell_type": "code",
   "execution_count": null,
   "metadata": {
    "Collapsed": "false"
   },
   "outputs": [],
   "source": [
    "'''\n",
    "This script will populate your `catalog` Mongo collection with adsorption sites\n",
    "of alloys containing the given set of elements and with Miller indices no\n",
    "higher than the specified `max_miller`.\n",
    "'''\n",
    "\n",
    "from gaspy.tasks.db_managers.catalog import update_catalog_collection\n",
    "\n",
    "\n",
    "#elements = ['Ag', 'Al', 'As', 'Au', 'Bi', 'Ca', 'Cd', 'Cl', 'Co', 'Cr', 'Cs',\n",
    "#            'Cu', 'Fe', 'Ga', 'Ge', 'H', 'Hf', 'Hg', 'In', 'Ir', 'K', 'Mn',\n",
    "#            'Mo', 'N', 'Ni', 'Na', 'Nb', 'Os', 'P', 'Pb', 'Pd', 'Pt', 'Rb',\n",
    "#            'Re', 'Rh', 'Ru', 'S', 'Sb', 'Sc', 'Se', 'Si', 'Sn', 'Sr', 'Ta',\n",
    "#            'Tc', 'Te', 'Ti', 'Tl', 'V', 'W', 'Y', 'Zn', 'Zr']\n",
    "max_miller = 2\n",
    "\n",
    "elements = ['Pt', 'Ru', \"Cu\", \"Ni\", \"Pd\"]\n",
    "\n",
    "\n",
    "update_catalog_collection(elements=elements, max_miller=max_miller, n_processes=8)"
   ]
  },
  {
   "cell_type": "code",
   "execution_count": null,
   "metadata": {
    "Collapsed": "false"
   },
   "outputs": [],
   "source": [
    "'''\n",
    "Alternative form to run arbitrary functions within gaspy.tasks.db_managers.catalog\n",
    "'''\n",
    "\n",
    "import gaspy.tasks.db_managers.catalog as catalog\n",
    "\n",
    "\n",
    "#elements = ['Ag', 'Al', 'As', 'Au', 'Bi', 'Ca', 'Cd', 'Cl', 'Co', 'Cr', 'Cs',\n",
    "#            'Cu', 'Fe', 'Ga', 'Ge', 'H', 'Hf', 'Hg', 'In', 'Ir', 'K', 'Mn',\n",
    "#            'Mo', 'N', 'Ni', 'Na', 'Nb', 'Os', 'P', 'Pb', 'Pd', 'Pt', 'Rb',\n",
    "#            'Re', 'Rh', 'Ru', 'S', 'Sb', 'Sc', 'Se', 'Si', 'Sn', 'Sr', 'Ta',\n",
    "#            'Tc', 'Te', 'Ti', 'Tl', 'V', 'W', 'Y', 'Zn', 'Zr']\n",
    "max_miller = 2\n",
    "\n",
    "elements = ['Pt', 'Ru', \"Cu\", \"Ni\", \"Pd\"]\n",
    "\n",
    "\n",
    "get_mpid_task = catalog._GetMpids(elements=elements)"
   ]
  },
  {
   "cell_type": "code",
   "execution_count": null,
   "metadata": {
    "Collapsed": "false"
   },
   "outputs": [],
   "source": [
    "catalog.schedule_tasks([get_mpid_task])"
   ]
  },
  {
   "cell_type": "code",
   "execution_count": null,
   "metadata": {
    "Collapsed": "false"
   },
   "outputs": [],
   "source": [
    "mpids = catalog.get_task_output(get_mpid_task)"
   ]
  },
  {
   "cell_type": "code",
   "execution_count": null,
   "metadata": {
    "Collapsed": "false"
   },
   "outputs": [],
   "source": [
    "mpids"
   ]
  },
  {
   "cell_type": "code",
   "execution_count": null,
   "metadata": {
    "Collapsed": "false"
   },
   "outputs": [],
   "source": [
    "# Aside: searching for missing calculation\n",
    "from gaspy.tasks import calculation_finders\n",
    "from gaspy import defaults"
   ]
  },
  {
   "cell_type": "code",
   "execution_count": null,
   "metadata": {
    "Collapsed": "false"
   },
   "outputs": [],
   "source": [
    "find_bulk_task = calculation_finders.FindBulk(mpid=\"mp-1186117\")"
   ]
  },
  {
   "cell_type": "code",
   "execution_count": null,
   "metadata": {
    "Collapsed": "false"
   },
   "outputs": [],
   "source": [
    "schedule_tasks([find_bulk_task])"
   ]
  },
  {
   "cell_type": "code",
   "execution_count": null,
   "metadata": {
    "Collapsed": "false"
   },
   "outputs": [],
   "source": [
    "output = catalog.get_task_output(find_bulk_task)"
   ]
  },
  {
   "cell_type": "code",
   "execution_count": null,
   "metadata": {
    "Collapsed": "false"
   },
   "outputs": [],
   "source": []
  },
  {
   "cell_type": "markdown",
   "metadata": {
    "Collapsed": "true"
   },
   "source": [
    "### Updating collections"
   ]
  },
  {
   "cell_type": "markdown",
   "metadata": {
    "Collapsed": "false"
   },
   "source": [
    "- Tip: run this in a new console for the notebook. That way, the output will page automatically and you won't have a huge cell to clear at the end."
   ]
  },
  {
   "cell_type": "code",
   "execution_count": null,
   "metadata": {
    "Collapsed": "false"
   },
   "outputs": [],
   "source": [
    "'''\n",
    "This script will populate your `atoms` Mongo collection with completed\n",
    "calculations in your FireWorks database.\n",
    "'''\n",
    "from gaspy.tasks.db_managers import update_all_collections\n",
    "\n",
    "\n",
    "update_all_collections(n_processes=4)"
   ]
  },
  {
   "cell_type": "markdown",
   "metadata": {
    "Collapsed": "false"
   },
   "source": [
    "### Triggering adsorption calculations"
   ]
  },
  {
   "cell_type": "code",
   "execution_count": null,
   "metadata": {
    "Collapsed": "false"
   },
   "outputs": [],
   "source": [
    "all_site_documents = get_catalog_docs()"
   ]
  },
  {
   "cell_type": "code",
   "execution_count": null,
   "metadata": {
    "Collapsed": "false"
   },
   "outputs": [],
   "source": [
    "from gaspy.tasks import schedule_tasks\n",
    "from gaspy.gasdb import get_catalog_docs\n",
    "from gaspy.tasks.metadata_calculators import CalculateAdsorptionEnergy\n",
    "\n",
    "\n",
    "# Get all of the sites that we have enumerated\n",
    "all_site_documents = get_catalog_docs()\n",
    "\n",
    "# Pick the sites that we want to run. In this case, it'll be sites on\n",
    "# palladium (as per Materials Project ID 2, mp-2) on (111) facets.\n",
    "site_documents_to_calc = [doc for doc in all_site_documents\n",
    "                          if (doc['mpid'] == 'mp-33' and\n",
    "                              doc['miller'] == [1, 1, 1])]\n",
    "\n",
    "# Turn the sites into GASpy/Luigi tasks\n",
    "tasks = [CalculateAdsorptionEnergy(adsorbate_name='H',\n",
    "                                   adsorption_site=doc['adsorption_site'],\n",
    "                                   mpid=doc['mpid'],\n",
    "                                   miller_indices=doc['miller'],\n",
    "                                   shift=doc['shift'],\n",
    "                                   top=doc['top'])\n",
    "         for doc in site_documents_to_calc]\n",
    "\n",
    "# Schedule/run all of the tasks\n",
    "schedule_tasks(tasks)"
   ]
  },
  {
   "cell_type": "markdown",
   "metadata": {
    "Collapsed": "false"
   },
   "source": [
    "### Use reservation system to give unit cell optimizations more walltime"
   ]
  },
  {
   "cell_type": "code",
   "execution_count": null,
   "metadata": {
    "Collapsed": "false"
   },
   "outputs": [],
   "source": [
    "from gaspy import fireworks_helper_scripts"
   ]
  },
  {
   "cell_type": "code",
   "execution_count": null,
   "metadata": {
    "Collapsed": "false"
   },
   "outputs": [],
   "source": [
    "# Look for RESERVED jobs that are unit cell optimizations\n",
    "lpad = fireworks_helper_scripts.get_launchpad()"
   ]
  },
  {
   "cell_type": "code",
   "execution_count": null,
   "metadata": {
    "Collapsed": "false"
   },
   "outputs": [],
   "source": [
    "fwids = lpad.get_fw_ids(\n",
    "    query={\"state\": \"RESERVED\", \"name.calculation_type\": \"unit cell optimization\"}\n",
    ")"
   ]
  },
  {
   "cell_type": "code",
   "execution_count": null,
   "metadata": {
    "Collapsed": "false"
   },
   "outputs": [],
   "source": [
    "# Extract the Slurm job IDs from the Firework record\n",
    "jobids = []\n",
    "\n",
    "for fwid in fwids:\n",
    "    fw = lpad.get_fw_by_id(fwid)\n",
    "    jobids.append(fw.launches[-1].state_history[-1][\"reservation_id\"])"
   ]
  },
  {
   "cell_type": "code",
   "execution_count": null,
   "metadata": {
    "Collapsed": "false"
   },
   "outputs": [],
   "source": [
    "# Ask Slurm to give all the jobs more time\n",
    "# Hopefully 8 hrs is enough for a unit cell optimization to finish!!\n",
    "cmd = f\"\"\"scontrol update jobid={\",\".join(jobids)} TimeLimit=8:00:00\"\"\""
   ]
  },
  {
   "cell_type": "code",
   "execution_count": null,
   "metadata": {
    "Collapsed": "false"
   },
   "outputs": [],
   "source": [
    "result = subprocess.run(cmd.split())"
   ]
  },
  {
   "cell_type": "code",
   "execution_count": null,
   "metadata": {
    "Collapsed": "false"
   },
   "outputs": [],
   "source": [
    "result"
   ]
  },
  {
   "cell_type": "markdown",
   "metadata": {
    "Collapsed": "false"
   },
   "source": [
    "## Introspection"
   ]
  },
  {
   "cell_type": "markdown",
   "metadata": {
    "Collapsed": "false"
   },
   "source": [
    "- Contains recipes for inspecting things in the database and getting an idea of what's going on."
   ]
  },
  {
   "cell_type": "code",
   "execution_count": null,
   "metadata": {
    "Collapsed": "false"
   },
   "outputs": [],
   "source": [
    "from gaspy import fireworks_helper_scripts"
   ]
  },
  {
   "cell_type": "markdown",
   "metadata": {
    "Collapsed": "false"
   },
   "source": [
    "### View atoms that match some Fireworks query"
   ]
  },
  {
   "cell_type": "code",
   "execution_count": null,
   "metadata": {
    "Collapsed": "false"
   },
   "outputs": [],
   "source": [
    "lpad = fireworks_helper_scripts.get_launchpad()"
   ]
  },
  {
   "cell_type": "code",
   "execution_count": null,
   "metadata": {
    "Collapsed": "false"
   },
   "outputs": [],
   "source": [
    "completed_fwids = lpad.get_fw_ids(query={\"state\": \"COMPLETED\", \"name.adsorbate\": \"N\"})"
   ]
  },
  {
   "cell_type": "code",
   "execution_count": null,
   "metadata": {
    "Collapsed": "false"
   },
   "outputs": [],
   "source": [
    "completed_atoms = [fireworks_helper_scripts.get_atoms_from_fwid(fwid=fwid) for fwid in tqdm.tqdm(completed_fwids)]"
   ]
  },
  {
   "cell_type": "code",
   "execution_count": null,
   "metadata": {
    "Collapsed": "false"
   },
   "outputs": [],
   "source": [
    "view(completed_atoms)"
   ]
  },
  {
   "cell_type": "markdown",
   "metadata": {
    "Collapsed": "false"
   },
   "source": [
    "### Check status of Fireworks jobs"
   ]
  },
  {
   "cell_type": "code",
   "execution_count": null,
   "metadata": {
    "Collapsed": "false"
   },
   "outputs": [],
   "source": [
    "job_status = fireworks_helper_scripts.check_jobs_status(user_ID=\"abhi2101\", num_jobs=50)"
   ]
  },
  {
   "cell_type": "code",
   "execution_count": null,
   "metadata": {
    "Collapsed": "false"
   },
   "outputs": [],
   "source": [
    "launch_dirs = job_status[job_status[\"state\"]==\"RUNNING\"]"
   ]
  },
  {
   "cell_type": "code",
   "execution_count": null,
   "metadata": {
    "Collapsed": "false"
   },
   "outputs": [],
   "source": [
    "launch_dirs"
   ]
  },
  {
   "cell_type": "code",
   "execution_count": null,
   "metadata": {
    "Collapsed": "false"
   },
   "outputs": [],
   "source": [
    "for run in launch_dirs:\n",
    "    print(run[\"fwid\"])\n",
    "    !ls -lah {run[\"launch_dir\"]}"
   ]
  },
  {
   "cell_type": "code",
   "execution_count": null,
   "metadata": {
    "Collapsed": "false"
   },
   "outputs": [],
   "source": [
    "job_status"
   ]
  },
  {
   "cell_type": "code",
   "execution_count": null,
   "metadata": {
    "Collapsed": "false"
   },
   "outputs": [],
   "source": [
    "job_status.pivot_table(values=\"fwid\", index=\"adsorbate\", columns=\"shift\", aggfunc=\"count\")"
   ]
  },
  {
   "cell_type": "markdown",
   "metadata": {
    "Collapsed": "false"
   },
   "source": [
    "### Re-run defused bulk optimization fireworks and delete old pickle files"
   ]
  },
  {
   "cell_type": "markdown",
   "metadata": {
    "Collapsed": "false"
   },
   "source": [
    "- EXPERIMENTAL, not known to work."
   ]
  },
  {
   "cell_type": "code",
   "execution_count": null,
   "metadata": {
    "Collapsed": "false"
   },
   "outputs": [],
   "source": [
    "# Need to get rid of unit cell optimization pickles that never finished\n",
    "defused_fwids = lpad.get_fw_ids(\n",
    "    query={\n",
    "        \"state\": \"RUNNING\",\n",
    "        \"name.calculation_type\": \"unit cell optimization\",\n",
    "        \"created_on\": {\"$gt\": \"2020-07-03\"},\n",
    "    }\n",
    ")\n",
    "\n",
    "# Now, for each FW, get the corresponding mpid"
   ]
  },
  {
   "cell_type": "code",
   "execution_count": null,
   "metadata": {
    "Collapsed": "false"
   },
   "outputs": [],
   "source": [
    "for fwid in defused_fwids:\n",
    "    lpad.defuse_fw(fwid)"
   ]
  },
  {
   "cell_type": "code",
   "execution_count": null,
   "metadata": {
    "Collapsed": "false"
   },
   "outputs": [],
   "source": [
    "mpids = set([lpad.get_fw_by_id(fwid).name[\"mpid\"] for fwid in defused_fwids])"
   ]
  },
  {
   "cell_type": "code",
   "execution_count": null,
   "metadata": {
    "Collapsed": "false"
   },
   "outputs": [],
   "source": [
    "mpids"
   ]
  },
  {
   "cell_type": "code",
   "execution_count": null,
   "metadata": {
    "Collapsed": "false"
   },
   "outputs": [],
   "source": [
    "# Rerun these bulk calculations\n",
    "from gaspy.tasks import calculation_finders\n",
    "\n",
    "find_bulk_tasks = [calculation_finders.FindBulk(mpid=mpid) for mpid in mpids]\n",
    "schedule_tasks(find_bulk_tasks)"
   ]
  },
  {
   "cell_type": "raw",
   "metadata": {
    "Collapsed": "false"
   },
   "source": [
    "# Remove any GenerateBulk pickle files associated with these mpids\n",
    "# working_dir = \"/global/cfs/cdirs/m3287/research/gaspy/gaspy-workspaces/luigi-space-v2/pickles/GenerateBulk\"\n",
    "working_dir = \"/global/cfs/cdirs/m3287/research/gaspy/gaspy-workspaces/luigi-space-v2/pickles/FindBulk\"\n",
    "\n",
    "pickle_files = glob.glob(os.path.join(working_dir, \"*.pkl\"))"
   ]
  },
  {
   "cell_type": "raw",
   "metadata": {
    "Collapsed": "false"
   },
   "source": [
    "pickle_files"
   ]
  },
  {
   "cell_type": "raw",
   "metadata": {
    "Collapsed": "false"
   },
   "source": [
    "def match_mpids(fname):\n",
    "    \"\"\"Filter function to see if filename matches any mpids\"\"\"\n",
    "    return any([mpid.lower().replace(\"-\", \"_\") in fname.lower() for mpid in mpids])"
   ]
  },
  {
   "cell_type": "raw",
   "metadata": {
    "Collapsed": "false"
   },
   "source": [
    "files_to_delete = list(filter(match_mpids, pickle_files))"
   ]
  },
  {
   "cell_type": "raw",
   "metadata": {
    "Collapsed": "false"
   },
   "source": [
    "files_to_delete"
   ]
  },
  {
   "cell_type": "raw",
   "metadata": {
    "Collapsed": "false"
   },
   "source": [
    "# DANGER\n",
    "for file in files_to_delete:\n",
    "    os.remove(file)"
   ]
  },
  {
   "cell_type": "markdown",
   "metadata": {
    "Collapsed": "false"
   },
   "source": [
    "### Inspect adsorption energies"
   ]
  },
  {
   "cell_type": "code",
   "execution_count": null,
   "metadata": {
    "Collapsed": "false"
   },
   "outputs": [],
   "source": [
    "import gaspy.gasdb as gasdb\n",
    "import seaborn as sns"
   ]
  },
  {
   "cell_type": "code",
   "execution_count": null,
   "metadata": {
    "Collapsed": "false"
   },
   "outputs": [],
   "source": [
    "sns.set_style(\"darkgrid\")"
   ]
  },
  {
   "cell_type": "code",
   "execution_count": null,
   "metadata": {
    "Collapsed": "false"
   },
   "outputs": [],
   "source": [
    "ads_docs = gasdb.get_adsorption_docs()"
   ]
  },
  {
   "cell_type": "code",
   "execution_count": null,
   "metadata": {
    "Collapsed": "false"
   },
   "outputs": [],
   "source": [
    "energies = [doc[\"energy\"] for doc in ads_docs]"
   ]
  },
  {
   "cell_type": "code",
   "execution_count": null,
   "metadata": {
    "Collapsed": "false"
   },
   "outputs": [],
   "source": [
    "import pandas as pd"
   ]
  },
  {
   "cell_type": "code",
   "execution_count": null,
   "metadata": {
    "Collapsed": "false"
   },
   "outputs": [],
   "source": [
    "energy_df = pd.DataFrame(data=ads_docs)"
   ]
  },
  {
   "cell_type": "code",
   "execution_count": null,
   "metadata": {
    "Collapsed": "false"
   },
   "outputs": [],
   "source": [
    "# 07 Jul 2020: find out the slab metal. Because we're only looking\n",
    "# at pure Pt and Ru slabs right now, we can pull this from the\n",
    "# adsorbate coordination string.\n",
    "\n",
    "energy_df[\"near_slab_element\"] = energy_df[\"coordination\"].apply(\n",
    "    lambda x: x.split(\"-\")[0]\n",
    ")"
   ]
  },
  {
   "cell_type": "code",
   "execution_count": null,
   "metadata": {
    "Collapsed": "false"
   },
   "outputs": [],
   "source": [
    "len(energy_df)"
   ]
  },
  {
   "cell_type": "code",
   "execution_count": null,
   "metadata": {
    "Collapsed": "false"
   },
   "outputs": [],
   "source": [
    "# Swarm plot\n",
    "fig, ax = plt.subplots(1, 1, figsize=(5, 3.5))\n",
    "sns.swarmplot(data=energy_df, y=\"energy\", x=\"adsorbate\", palette=\"Dark2\", hue = \"near_slab_element\", ax=ax)\n",
    "\n",
    "# Label axes\n",
    "ax.set_xlabel(\"Adsorbate\")\n",
    "ax.set_ylabel(\"Binding energy / eV\")\n",
    "\n",
    "# Change legend title\n",
    "lg = ax.get_legend()\n",
    "lg.set_title(\"Slab metal\")\n",
    "\n",
    "datestr = datetime.date.today().strftime(\"%d %b %Y\")\n",
    "ax.set_title(f\"Preliminary adsorption energies, {datestr}\")\n",
    "fig.tight_layout()\n",
    "\n",
    "fig.savefig(f\"\"\"ads-energies-swarm-plot_{datestr.replace(\" \",\"-\").lower()}.pdf\"\"\")"
   ]
  },
  {
   "cell_type": "code",
   "execution_count": null,
   "metadata": {
    "Collapsed": "false"
   },
   "outputs": [],
   "source": [
    "# Violin plot\n",
    "fig, ax = plt.subplots(1, 1, figsize=(15, 8))\n",
    "sns.violinplot(data=energy_df, y=\"energy\", x=\"adsorbate\", width=1, scale=\"count\", ax=ax)\n",
    "# ax.set_xticks([0, 0.5, 1, 1.5])"
   ]
  },
  {
   "cell_type": "code",
   "execution_count": null,
   "metadata": {
    "Collapsed": "false"
   },
   "outputs": [],
   "source": [
    "# Inspect why some O adslabs have relatively high binding energies\n",
    "import gaspy.mongo as gaspymongo\n",
    "\n",
    "high_docs = [doc for doc in ads_docs if doc[\"energy\"] > 1]\n",
    "\n",
    "high_docs = gasdb.get_adsorption_docs(\n",
    "    adsorbate=\"O\",\n",
    "    extra_projections={\"atoms\": \"$atoms\", \"results\": \"$results\"},\n",
    "    filters={\"adsorption_energy\": {\"$gt\": 1.00}},\n",
    ")\n",
    "\n",
    "\n",
    "\n",
    "high_atoms = [gaspymongo.make_atoms_from_doc(doc) for doc in high_docs]\n",
    "\n",
    "view(high_atoms)"
   ]
  },
  {
   "cell_type": "code",
   "execution_count": null,
   "metadata": {
    "Collapsed": "false"
   },
   "outputs": [],
   "source": [
    "# Compare to low-energy O adslabs\n",
    "import gaspy.mongo as gaspymongo\n",
    "\n",
    "low_docs = gasdb.get_adsorption_docs(\n",
    "    adsorbate=\"O\",\n",
    "    extra_projections={\"atoms\": \"$atoms\", \"results\": \"$results\"},\n",
    "    filters={\"adsorption_energy\": {\"$lt\": 1.00}},\n",
    ")\n",
    "\n",
    "\n",
    "\n",
    "low_atoms = [gaspymongo.make_atoms_from_doc(doc) for doc in low_docs]\n",
    "\n",
    "view(low_atoms)"
   ]
  },
  {
   "cell_type": "markdown",
   "metadata": {
    "Collapsed": "false"
   },
   "source": [
    "### Defuse fireworks that match a query"
   ]
  },
  {
   "cell_type": "markdown",
   "metadata": {
    "Collapsed": "false"
   },
   "source": [
    "- Allows you to defuse (to archive and not run) Fireworks based on querying the Fireworks database."
   ]
  },
  {
   "cell_type": "code",
   "execution_count": null,
   "metadata": {
    "Collapsed": "false"
   },
   "outputs": [],
   "source": [
    "lpad = fireworks_helper_scripts.get_launchpad()"
   ]
  },
  {
   "cell_type": "code",
   "execution_count": null,
   "metadata": {
    "Collapsed": "false"
   },
   "outputs": [],
   "source": [
    "fws_to_defuse = lpad.get_fw_ids(query={\"name.calculation_type\": \"unit cell optimization\", \"state\": \"READY\"})"
   ]
  },
  {
   "cell_type": "code",
   "execution_count": null,
   "metadata": {
    "Collapsed": "false"
   },
   "outputs": [],
   "source": [
    "fws_to_defuse"
   ]
  },
  {
   "cell_type": "code",
   "execution_count": null,
   "metadata": {
    "Collapsed": "false"
   },
   "outputs": [],
   "source": [
    "for fwid in fws_to_defuse:\n",
    "    lpad.defuse_fw(fw_id=fwid)"
   ]
  },
  {
   "cell_type": "code",
   "execution_count": null,
   "metadata": {
    "Collapsed": "false"
   },
   "outputs": [],
   "source": [
    "lpad.defuse_fw(190)"
   ]
  },
  {
   "cell_type": "markdown",
   "metadata": {
    "Collapsed": "false"
   },
   "source": [
    "## Maintenance"
   ]
  },
  {
   "cell_type": "markdown",
   "metadata": {
    "Collapsed": "false"
   },
   "source": [
    "- This section has tasks for maintaining the database and other parts of the system."
   ]
  },
  {
   "cell_type": "markdown",
   "metadata": {
    "Collapsed": "false"
   },
   "source": [
    "### Back up Mongo database"
   ]
  },
  {
   "cell_type": "markdown",
   "metadata": {
    "Collapsed": "false"
   },
   "source": [
    "- We should probably make this a cron job, but here's the template the Ulissigroup sent us."
   ]
  },
  {
   "cell_type": "code",
   "execution_count": null,
   "metadata": {
    "Collapsed": "false"
   },
   "outputs": [],
   "source": [
    "import pymongo"
   ]
  },
  {
   "cell_type": "code",
   "execution_count": null,
   "metadata": {
    "Collapsed": "false"
   },
   "outputs": [],
   "source": [
    "from gaspy.utils import read_rc"
   ]
  },
  {
   "cell_type": "code",
   "execution_count": null,
   "metadata": {
    "Collapsed": "false"
   },
   "outputs": [],
   "source": [
    "# Read variables\n",
    "mongo_host = read_rc(\"fireworks_info.lpad.host\")\n",
    "mongo_port = read_rc(\"fireworks_info.lpad.port\")\n",
    "username = read_rc(\"fireworks_info.lpad.username\")\n",
    "password = read_rc(\"fireworks_info.lpad.password\")\n",
    "\n",
    "backup_location = read_rc(\"fireworks_info.backup_directory\")\n",
    "\n",
    "now = datetime.date.today().strftime(\"%Y_%m_%d\")"
   ]
  },
  {
   "cell_type": "code",
   "execution_count": null,
   "metadata": {
    "Collapsed": "false"
   },
   "outputs": [],
   "source": [
    "command = (\n",
    "    f\"\"\"module load mongodb; mongodump --host \"{mongo_host}\" --port \"{mongo_port}\" \"\"\"\n",
    "    f\"\"\"--username \"{username}\" --password \"{password}\" \"\"\"\n",
    "    f\"\"\"--out \"{os.path.join(backup_location, \"mongodb_backup_\" + now)}\" \"\"\"\n",
    "    f\"\"\"--db \"goldsmith-gaspy\" --gzip\"\"\"\n",
    ")"
   ]
  },
  {
   "cell_type": "code",
   "execution_count": null,
   "metadata": {
    "Collapsed": "false"
   },
   "outputs": [],
   "source": [
    "result = subprocess.run(command, stdout=subprocess.PIPE, stderr=subprocess.PIPE, encoding=\"utf8\", shell=True)"
   ]
  },
  {
   "cell_type": "code",
   "execution_count": null,
   "metadata": {
    "Collapsed": "false"
   },
   "outputs": [],
   "source": [
    "print(result.stderr)"
   ]
  },
  {
   "cell_type": "code",
   "execution_count": null,
   "metadata": {
    "Collapsed": "false"
   },
   "outputs": [],
   "source": []
  }
 ],
 "metadata": {
  "kernelspec": {
   "display_name": "Python [conda env:gaspyconda]",
   "language": "python",
   "name": "gaspyconda"
  },
  "language_info": {
   "codemirror_mode": {
    "name": "ipython",
    "version": 3
   },
   "file_extension": ".py",
   "mimetype": "text/x-python",
   "name": "python",
   "nbconvert_exporter": "python",
   "pygments_lexer": "ipython3",
   "version": "3.6.7"
  }
 },
 "nbformat": 4,
 "nbformat_minor": 4
}
